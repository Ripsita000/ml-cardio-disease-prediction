{
  "nbformat": 4,
  "nbformat_minor": 0,
  "metadata": {
    "colab": {
      "provenance": []
    },
    "kernelspec": {
      "name": "python3",
      "display_name": "Python 3"
    },
    "language_info": {
      "name": "python"
    }
  },
  "cells": [
    {
      "cell_type": "code",
      "execution_count": null,
      "metadata": {
        "id": "be0lCNhVvkQa"
      },
      "outputs": [],
      "source": [
        "import pandas as pd\n",
        "import tensorflow as tf\n",
        "from tensorflow import keras\n",
        "import matplotlib.pyplot as plt\n",
        "import seaborn as sns\n",
        "from tensorflow.keras.layers import Dense, Dropout, BatchNormalization\n",
        "from sklearn.preprocessing import StandardScaler\n",
        "from tensorflow.keras.optimizers import Adam"
      ]
    },
    {
      "cell_type": "code",
      "source": [
        "df = pd.read_csv(\"cardio_train.csv\", delimiter=\";\")\n",
        "print(df.head())  # Check if data is now loading correctly\n"
      ],
      "metadata": {
        "id": "cH-Cy0s3wNso"
      },
      "execution_count": null,
      "outputs": []
    },
    {
      "cell_type": "code",
      "source": [
        "print(df.head())\n"
      ],
      "metadata": {
        "id": "cHAzDz1v0rOS"
      },
      "execution_count": null,
      "outputs": []
    },
    {
      "cell_type": "code",
      "source": [
        "# Convert age from days to years\n",
        "df['age'] = (df['age'] / 365).astype(int)"
      ],
      "metadata": {
        "id": "aMqoSON8wraV"
      },
      "execution_count": null,
      "outputs": []
    },
    {
      "cell_type": "code",
      "source": [
        "# Checking for missing values\n",
        "print(\"Missing values per column:\")\n",
        "print(df.isnull().sum())"
      ],
      "metadata": {
        "id": "1I7p2dwdwy8X"
      },
      "execution_count": null,
      "outputs": []
    },
    {
      "cell_type": "code",
      "source": [
        "print(f\"Dataset shape before cleaning: {df.shape}\")\n",
        "print(df.describe())  # To see min/max values\n"
      ],
      "metadata": {
        "id": "_2ZZYvNl0ell"
      },
      "execution_count": null,
      "outputs": []
    },
    {
      "cell_type": "code",
      "source": [
        "# Removing outliers\n",
        "# Blood pressure constraints: systolic (ap_hi) > diastolic (ap_lo)\n",
        "df = df[(df['ap_hi'] > df['ap_lo']) & (df['ap_hi'].between(90, 180)) & (df['ap_lo'].between(60, 110))]\n"
      ],
      "metadata": {
        "id": "R0jKRxu4w2w5"
      },
      "execution_count": null,
      "outputs": []
    },
    {
      "cell_type": "code",
      "source": [
        "# Height and weight constraints (relaxing extreme values)\n",
        "df = df[(df['height'].between(140, 200)) & (df['weight'].between(45, 150))]\n"
      ],
      "metadata": {
        "id": "NbEPrzABw8mG"
      },
      "execution_count": null,
      "outputs": []
    },
    {
      "cell_type": "code",
      "source": [
        "# Checking dataset shape after filtering\n",
        "print(f\"Dataset shape after cleaning: {df.shape}\")\n"
      ],
      "metadata": {
        "id": "Ng03Goosyghc"
      },
      "execution_count": null,
      "outputs": []
    },
    {
      "cell_type": "code",
      "source": [
        "# Feature Engineering\n",
        "df['BMI'] = df['weight'] / (df['height'] / 100) ** 2  # Body Mass Index\n",
        "df['BP_diff'] = df['ap_hi'] - df['ap_lo']  # Blood Pressure Difference"
      ],
      "metadata": {
        "id": "Xk-kq4xR6H1V"
      },
      "execution_count": null,
      "outputs": []
    },
    {
      "cell_type": "code",
      "source": [
        "# Dropping unnecessary features\n",
        "df = df.drop(columns=['id'])  # ID is not useful for prediction\n"
      ],
      "metadata": {
        "id": "QNUGAkolzIoP"
      },
      "execution_count": null,
      "outputs": []
    },
    {
      "cell_type": "code",
      "source": [
        "# Reset index before scaling\n",
        "df = df.reset_index(drop=True)\n"
      ],
      "metadata": {
        "id": "qmlkVmfTzOU0"
      },
      "execution_count": null,
      "outputs": []
    },
    {
      "cell_type": "code",
      "source": [
        "if df.shape[0] > 0:\n",
        "    scaler = StandardScaler()\n",
        "    df[['height', 'weight', 'ap_hi', 'ap_lo']] = scaler.fit_transform(df[['height', 'weight', 'ap_hi', 'ap_lo']])\n",
        "else:\n",
        "    print(\"No data left after cleaning. Adjust filtering conditions.\")\n"
      ],
      "metadata": {
        "id": "cCVdmGNYzpM8"
      },
      "execution_count": null,
      "outputs": []
    },
    {
      "cell_type": "code",
      "source": [
        "# Feature scaling\n",
        "scaler = StandardScaler()\n",
        "df[['height', 'weight', 'ap_hi', 'ap_lo']] = scaler.fit_transform(df[['height', 'weight', 'ap_hi', 'ap_lo']])\n"
      ],
      "metadata": {
        "id": "YUh1y_mjw_Az"
      },
      "execution_count": null,
      "outputs": []
    },
    {
      "cell_type": "code",
      "source": [
        "# Display processed dataset summary\n",
        "print(\"Processed dataset summary:\")\n",
        "print(df.describe())"
      ],
      "metadata": {
        "id": "3qlc2D8zxCoU"
      },
      "execution_count": null,
      "outputs": []
    },
    {
      "cell_type": "code",
      "source": [
        "# Visualizing correlation matrix\n",
        "plt.figure(figsize=(10, 8))\n",
        "sns.heatmap(df.corr(), annot=True, cmap=\"coolwarm\", fmt=\".2f\")\n",
        "plt.title(\"Feature Correlation Matrix\")\n",
        "plt.show()"
      ],
      "metadata": {
        "id": "v5Y9VJLtxI6I"
      },
      "execution_count": null,
      "outputs": []
    },
    {
      "cell_type": "code",
      "source": [
        "# Selecting important features based on correlation\n",
        "features = ['age', 'gender', 'height', 'weight', 'ap_hi', 'ap_lo', 'cholesterol', 'gluc', 'smoke', 'alco', 'active']\n",
        "target = 'cardio'\n",
        "X = df[features]\n",
        "y = df[target]\n"
      ],
      "metadata": {
        "id": "Ia4QHisExxhg"
      },
      "execution_count": null,
      "outputs": []
    },
    {
      "cell_type": "code",
      "source": [
        "# Prepare Features & Target\n",
        "features = ['age', 'gender', 'height', 'weight', 'ap_hi', 'ap_lo', 'cholesterol', 'gluc', 'smoke', 'alco', 'active']\n",
        "target = 'cardio'"
      ],
      "metadata": {
        "id": "30C5eT_nBLU0"
      },
      "execution_count": null,
      "outputs": []
    },
    {
      "cell_type": "code",
      "source": [
        "X = df[features]\n",
        "y = df[target]"
      ],
      "metadata": {
        "id": "dWXiJXzPBRDZ"
      },
      "execution_count": null,
      "outputs": []
    },
    {
      "cell_type": "code",
      "source": [
        "# Feature Scaling\n",
        "scaler = StandardScaler()\n",
        "X = scaler.fit_transform(X)"
      ],
      "metadata": {
        "id": "Dfjkn21QBTzg"
      },
      "execution_count": null,
      "outputs": []
    },
    {
      "cell_type": "code",
      "source": [
        "from sklearn.model_selection import train_test_split # Importing train_test_split"
      ],
      "metadata": {
        "id": "nvLemn77V_5s"
      },
      "execution_count": null,
      "outputs": []
    },
    {
      "cell_type": "code",
      "source": [
        "# Train-Test Split\n",
        "X_train, X_test, y_train, y_test = train_test_split(X, y, test_size=0.2, random_state=42, stratify=y)\n"
      ],
      "metadata": {
        "id": "0TPi0ocZBWnZ"
      },
      "execution_count": null,
      "outputs": []
    },
    {
      "cell_type": "code",
      "source": [
        "# Build Improved Deep Learning Model\n",
        "model = keras.Sequential([\n",
        "    Dense(128, activation='relu', input_shape=(X_train.shape[1],)),\n",
        "    BatchNormalization(),\n",
        "    Dropout(0.3),  # Dropout to reduce overfitting\n",
        "    Dense(64, activation='relu'),\n",
        "    Dropout(0.3),\n",
        "    Dense(32, activation='relu'),\n",
        "    Dense(1, activation='sigmoid')  # Output layer for binary classification\n",
        "])\n"
      ],
      "metadata": {
        "id": "uMyjL2tqDWos"
      },
      "execution_count": null,
      "outputs": []
    },
    {
      "cell_type": "code",
      "source": [
        "# Compile Model\n",
        "model.compile(optimizer=Adam(learning_rate=0.001),\n",
        "              loss='binary_crossentropy',\n",
        "              metrics=['accuracy'])"
      ],
      "metadata": {
        "id": "oTJeLOqNDYG9"
      },
      "execution_count": null,
      "outputs": []
    },
    {
      "cell_type": "code",
      "source": [
        "# Train Model\n",
        "history = model.fit(X_train, y_train,\n",
        "                    epochs=50, batch_size=32,\n",
        "                    validation_data=(X_test, y_test),\n",
        "                    callbacks=[keras.callbacks.ReduceLROnPlateau(monitor='val_loss', patience=5, factor=0.5)])"
      ],
      "metadata": {
        "id": "2hgKTPT-Ddcn",
        "collapsed": true
      },
      "execution_count": null,
      "outputs": []
    },
    {
      "cell_type": "code",
      "source": [
        "# Evaluate Model\n",
        "test_loss, test_acc = model.evaluate(X_test, y_test)\n",
        "print(f\"\\n🔥 Improved Deep Learning Model Accuracy: {test_acc * 100:.2f}% 🔥\")"
      ],
      "metadata": {
        "id": "UCN4oGh9Ghgg"
      },
      "execution_count": null,
      "outputs": []
    }
  ]
}